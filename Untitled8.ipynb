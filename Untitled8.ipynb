{
 "cells": [
  {
   "cell_type": "markdown",
   "metadata": {
    "colab_type": "text",
    "id": "view-in-github"
   },
   "source": [
    "<a href=\"https://colab.research.google.com/github/DawidLarkSkowron/AnomalyDetectionCityNetworks/blob/main/Untitled8.ipynb\" target=\"_parent\"><img src=\"https://colab.research.google.com/assets/colab-badge.svg\" alt=\"Open In Colab\"/></a>"
   ]
  },
  {
   "cell_type": "code",
   "metadata": {
    "colab": {
     "base_uri": "https://localhost:8080/"
    },
    "id": "WB56JqaINodH",
    "outputId": "5daa316d-d130-4578-f0a4-8e98eb2a693d",
    "jupyter": {
     "is_executing": true
    }
   },
   "source": [
    "# test 2\n",
    "# 5 random items from a list\n",
    "import random\n",
    "\n",
    "my_list = [1, 2, 3, 4, 5, 6, 7, 8, 9, 10]\n",
    "selected_items = random.sample(my_list, 5)\n",
    "\n",
    "print(selected_items)"
   ],
   "outputs": [],
   "execution_count": null
  },
  {
   "cell_type": "code",
   "metadata": {
    "id": "-hfBAYPvOaAu",
    "jupyter": {
     "is_executing": true
    }
   },
   "source": [
    "# Test sorting in ascending order\n",
    "sorted_items_asc = sorted(selected_items)\n",
    "print(\"Ascending order:\", sorted_items_asc)\n",
    "\n",
    "# Test sorting in descending order\n",
    "sorted_items_desc = sorted(selected_items, reverse=True)\n",
    "print(\"Descending order:\", sorted_items_desc)"
   ],
   "outputs": [],
   "execution_count": null
  },
  {
   "cell_type": "code",
   "execution_count": 2,
   "metadata": {},
   "outputs": [
    {
     "name": "stdout",
     "output_type": "stream",
     "text": [
      "Afera\n",
      "Afera\n",
      "Afera Afera\n",
      "AferaAfera\n",
      "Afera Afera\n",
      "AferaAfera\n",
      "Afera Afera\n",
      "AferaAfera\n",
      "Afera Afera\n",
      "Afera Afera\n"
     ]
    }
   ],
   "source": [
    "Afera = \"Afera\"\n",
    "print(Afera)\n",
    "print(\"Afera\")\n",
    "print(\"Afera\", \"Afera\")\n",
    "print(\"Afera\" + \"Afera\")\n",
    "print(\"Afera\" + \" \" + \"Afera\")\n",
    "print(\"Afera\", \"Afera\", sep=\"\")\n",
    "print(\"Afera\", \"Afera\", sep=\" \")\n",
    "print(\"Afera\", \"Afera\", sep=\"\")\n",
    "print(\"Afera\", \"Afera\", sep=\" \")\n",
    "print(\"Afera\", \"Afera\", sep=\" \")"
   ]
  },
  {
   "cell_type": "code",
   "execution_count": null,
   "metadata": {},
   "outputs": [],
   "source": []
  }
 ],
 "metadata": {
  "colab": {
   "include_colab_link": true,
   "provenance": []
  },
  "kernelspec": {
   "display_name": "Python 3",
   "name": "python3"
  },
  "language_info": {
   "codemirror_mode": {
    "name": "ipython",
    "version": 3
   },
   "file_extension": ".py",
   "mimetype": "text/x-python",
   "name": "python",
   "nbconvert_exporter": "python",
   "pygments_lexer": "ipython3",
   "version": "3.12.3"
  }
 },
 "nbformat": 4,
 "nbformat_minor": 0
}
