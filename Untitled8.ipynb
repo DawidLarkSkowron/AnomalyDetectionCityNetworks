{
  "cells": [
    {
      "cell_type": "markdown",
      "metadata": {
        "colab_type": "text",
        "id": "view-in-github"
      },
      "source": [
        "<a href=\"https://colab.research.google.com/github/DawidLarkSkowron/AnomalyDetectionCityNetworks/blob/main/Untitled8.ipynb\" target=\"_parent\"><img src=\"https://colab.research.google.com/assets/colab-badge.svg\" alt=\"Open In Colab\"/></a>"
      ]
    },
    {
      "cell_type": "code",
      "execution_count": 13,
      "metadata": {
        "colab": {
          "base_uri": "https://localhost:8080/"
        },
        "id": "WB56JqaINodH",
        "outputId": "5daa316d-d130-4578-f0a4-8e98eb2a693d"
      },
      "outputs": [
        {
          "name": "stdout",
          "output_type": "stream",
          "text": [
            "[4, 6, 5, 3, 9]\n"
          ]
        }
      ],
      "source": [
        "# test 2\n",
        "\n",
        "#test 3 \n",
        "import random\n",
        "\n",
        "my_list = [1, 2, 3, 4, 5, 6, 7, 8, 9, 10]\n",
        "selected_items = random.sample(my_list, 5)\n",
        "\n",
        "print(selected_items)"
      ]
    },
    {
      "cell_type": "code",
      "execution_count": 14,
      "metadata": {
        "id": "-hfBAYPvOaAu"
      },
      "outputs": [
        {
          "name": "stdout",
          "output_type": "stream",
          "text": [
            "Ascending order: [3, 4, 5, 6, 9]\n",
            "Descending order: [9, 6, 5, 4, 3]\n"
          ]
        }
      ],
      "source": [
        "# Test sorting in ascending order\n",
        "sorted_items_asc = sorted(selected_items)\n",
        "print(\"Ascending order:\", sorted_items_asc)\n",
        "\n",
        "# Test sorting in descending order\n",
        "sorted_items_desc = sorted(selected_items, reverse=True)\n",
        "print(\"Descending order:\", sorted_items_desc)"
      ]
    },
    {
      "cell_type": "code",
      "execution_count": 16,
      "metadata": {},
      "outputs": [
        {
          "ename": "SyntaxError",
          "evalue": "invalid syntax (1842779921.py, line 1)",
          "output_type": "error",
          "traceback": [
            "\u001b[1;36m  Cell \u001b[1;32mIn[16], line 1\u001b[1;36m\u001b[0m\n\u001b[1;33m    nbdime config-git --enable\u001b[0m\n\u001b[1;37m           ^\u001b[0m\n\u001b[1;31mSyntaxError\u001b[0m\u001b[1;31m:\u001b[0m invalid syntax\n"
          ]
        }
      ],
      "source": []
    }
  ],
  "metadata": {
    "colab": {
      "include_colab_link": true,
      "provenance": []
    },
    "kernelspec": {
      "display_name": "Python 3",
      "name": "python3"
    },
    "language_info": {
      "codemirror_mode": {
        "name": "ipython",
        "version": 3
      },
      "file_extension": ".py",
      "mimetype": "text/x-python",
      "name": "python",
      "nbconvert_exporter": "python",
      "pygments_lexer": "ipython3",
      "version": "3.12.3"
    }
  },
  "nbformat": 4,
  "nbformat_minor": 0
}
